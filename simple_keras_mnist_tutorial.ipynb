{
  "nbformat": 4,
  "nbformat_minor": 0,
  "metadata": {
    "colab": {
      "name": "simple_keras_mnist_tutorial.ipynb",
      "provenance": []
    },
    "kernelspec": {
      "name": "python3",
      "display_name": "Python 3"
    },
    "language_info": {
      "name": "python"
    }
  },
  "cells": [
    {
      "cell_type": "code",
      "metadata": {
        "id": "zMn4D-vkgHEu"
      },
      "source": [
        "#Importing libraries\n",
        "import numpy as np\n",
        "from tensorflow import keras\n",
        "from tensorflow.keras import layers\n"
      ],
      "execution_count": 1,
      "outputs": []
    },
    {
      "cell_type": "code",
      "metadata": {
        "colab": {
          "base_uri": "https://localhost:8080/"
        },
        "id": "FT0CT4JXgRja",
        "outputId": "fc08ec8f-aec3-405e-b901-1e35350e04ac"
      },
      "source": [
        "# Model / data parameters\n",
        "num_classes = 10\n",
        "input_shape = (28, 28, 1)\n",
        "\n",
        "# the data, split between train and test sets\n",
        "(x_train, y_train), (x_test, y_test) = keras.datasets.mnist.load_data()\n",
        "\n",
        "# Scale images to the [0, 1] range\n",
        "x_train = x_train.astype(\"float32\") / 255\n",
        "x_test = x_test.astype(\"float32\") / 255\n",
        "\n",
        "# Make sure images have shape (28, 28, 1)\n",
        "x_train = np.expand_dims(x_train, -1)\n",
        "x_test = np.expand_dims(x_test, -1)\n",
        "print(\"x_train shape:\", x_train.shape)\n",
        "print(x_train.shape[0], \"train samples\")\n",
        "print(x_test.shape[0], \"test samples\")\n",
        "\n",
        "\n",
        "# convert class vectors to binary class matrices\n",
        "y_train = keras.utils.to_categorical(y_train, num_classes)\n",
        "y_test = keras.utils.to_categorical(y_test, num_classes)\n"
      ],
      "execution_count": 6,
      "outputs": [
        {
          "output_type": "stream",
          "text": [
            "(60000, 28, 28)\n",
            "x_train shape: (60000, 28, 28, 1)\n",
            "60000 train samples\n",
            "10000 test samples\n"
          ],
          "name": "stdout"
        }
      ]
    },
    {
      "cell_type": "code",
      "metadata": {
        "colab": {
          "base_uri": "https://localhost:8080/"
        },
        "id": "oAMRQEbmhE1l",
        "outputId": "5af6d398-bbc4-4d25-9dfe-afcd86097629"
      },
      "source": [
        "model = keras.Sequential(\n",
        "    [\n",
        "        keras.Input(shape=input_shape),\n",
        "        layers.Conv2D(32, kernel_size=(3, 3), activation=\"relu\"),\n",
        "        layers.MaxPooling2D(pool_size=(2, 2)),\n",
        "        layers.Conv2D(64, kernel_size=(3, 3), activation=\"relu\"),\n",
        "        layers.MaxPooling2D(pool_size=(2, 2)),\n",
        "        layers.Flatten(),\n",
        "        layers.Dropout(0.5),\n",
        "        layers.Dense(num_classes, activation=\"softmax\"),\n",
        "    ]\n",
        ")\n",
        "\n",
        "model.summary()"
      ],
      "execution_count": 7,
      "outputs": [
        {
          "output_type": "stream",
          "text": [
            "Model: \"sequential\"\n",
            "_________________________________________________________________\n",
            "Layer (type)                 Output Shape              Param #   \n",
            "=================================================================\n",
            "conv2d (Conv2D)              (None, 26, 26, 32)        320       \n",
            "_________________________________________________________________\n",
            "max_pooling2d (MaxPooling2D) (None, 13, 13, 32)        0         \n",
            "_________________________________________________________________\n",
            "conv2d_1 (Conv2D)            (None, 11, 11, 64)        18496     \n",
            "_________________________________________________________________\n",
            "max_pooling2d_1 (MaxPooling2 (None, 5, 5, 64)          0         \n",
            "_________________________________________________________________\n",
            "flatten (Flatten)            (None, 1600)              0         \n",
            "_________________________________________________________________\n",
            "dropout (Dropout)            (None, 1600)              0         \n",
            "_________________________________________________________________\n",
            "dense (Dense)                (None, 10)                16010     \n",
            "=================================================================\n",
            "Total params: 34,826\n",
            "Trainable params: 34,826\n",
            "Non-trainable params: 0\n",
            "_________________________________________________________________\n"
          ],
          "name": "stdout"
        }
      ]
    },
    {
      "cell_type": "code",
      "metadata": {
        "colab": {
          "base_uri": "https://localhost:8080/"
        },
        "id": "QnjeHMrihJA8",
        "outputId": "c8e30ad1-724e-4a2c-a9aa-bd3e48bb6302"
      },
      "source": [
        "batch_size = 128\n",
        "epochs = 15\n",
        "\n",
        "model.compile(loss=\"categorical_crossentropy\", optimizer=\"adam\", metrics=[\"accuracy\"])\n",
        "\n",
        "model.fit(x_train, y_train, batch_size=batch_size, epochs=epochs, validation_split=0.1)\n"
      ],
      "execution_count": 8,
      "outputs": [
        {
          "output_type": "stream",
          "text": [
            "Epoch 1/15\n",
            "422/422 [==============================] - 43s 100ms/step - loss: 0.7600 - accuracy: 0.7627 - val_loss: 0.0832 - val_accuracy: 0.9778\n",
            "Epoch 2/15\n",
            "422/422 [==============================] - 43s 102ms/step - loss: 0.1251 - accuracy: 0.9623 - val_loss: 0.0599 - val_accuracy: 0.9833\n",
            "Epoch 3/15\n",
            "422/422 [==============================] - 42s 100ms/step - loss: 0.0885 - accuracy: 0.9712 - val_loss: 0.0467 - val_accuracy: 0.9882\n",
            "Epoch 4/15\n",
            "422/422 [==============================] - 42s 99ms/step - loss: 0.0729 - accuracy: 0.9772 - val_loss: 0.0398 - val_accuracy: 0.9888\n",
            "Epoch 5/15\n",
            "422/422 [==============================] - 42s 99ms/step - loss: 0.0669 - accuracy: 0.9801 - val_loss: 0.0361 - val_accuracy: 0.9903\n",
            "Epoch 6/15\n",
            "422/422 [==============================] - 42s 99ms/step - loss: 0.0529 - accuracy: 0.9839 - val_loss: 0.0333 - val_accuracy: 0.9903\n",
            "Epoch 7/15\n",
            "422/422 [==============================] - 42s 99ms/step - loss: 0.0515 - accuracy: 0.9834 - val_loss: 0.0324 - val_accuracy: 0.9908\n",
            "Epoch 8/15\n",
            "422/422 [==============================] - 41s 98ms/step - loss: 0.0501 - accuracy: 0.9841 - val_loss: 0.0294 - val_accuracy: 0.9917\n",
            "Epoch 9/15\n",
            "422/422 [==============================] - 42s 98ms/step - loss: 0.0430 - accuracy: 0.9861 - val_loss: 0.0310 - val_accuracy: 0.9910\n",
            "Epoch 10/15\n",
            "422/422 [==============================] - 41s 98ms/step - loss: 0.0411 - accuracy: 0.9869 - val_loss: 0.0295 - val_accuracy: 0.9922\n",
            "Epoch 11/15\n",
            "422/422 [==============================] - 41s 97ms/step - loss: 0.0380 - accuracy: 0.9872 - val_loss: 0.0270 - val_accuracy: 0.9918\n",
            "Epoch 12/15\n",
            "422/422 [==============================] - 41s 97ms/step - loss: 0.0374 - accuracy: 0.9878 - val_loss: 0.0270 - val_accuracy: 0.9928\n",
            "Epoch 13/15\n",
            "422/422 [==============================] - 41s 97ms/step - loss: 0.0352 - accuracy: 0.9888 - val_loss: 0.0275 - val_accuracy: 0.9922\n",
            "Epoch 14/15\n",
            "422/422 [==============================] - 41s 97ms/step - loss: 0.0351 - accuracy: 0.9882 - val_loss: 0.0282 - val_accuracy: 0.9932\n",
            "Epoch 15/15\n",
            "422/422 [==============================] - 41s 97ms/step - loss: 0.0325 - accuracy: 0.9894 - val_loss: 0.0241 - val_accuracy: 0.9937\n"
          ],
          "name": "stdout"
        },
        {
          "output_type": "execute_result",
          "data": {
            "text/plain": [
              "<tensorflow.python.keras.callbacks.History at 0x7f9766105650>"
            ]
          },
          "metadata": {
            "tags": []
          },
          "execution_count": 8
        }
      ]
    },
    {
      "cell_type": "code",
      "metadata": {
        "colab": {
          "base_uri": "https://localhost:8080/"
        },
        "id": "lnn3SvXAhL6E",
        "outputId": "0877f726-ee3f-476c-e739-867f3fdfcc5e"
      },
      "source": [
        "score = model.evaluate(x_test, y_test, verbose=0)\n",
        "print(\"Test loss:\", score[0])\n",
        "print(\"Test accuracy:\", score[1])\n"
      ],
      "execution_count": 9,
      "outputs": [
        {
          "output_type": "stream",
          "text": [
            "Test loss: 0.024871869012713432\n",
            "Test accuracy: 0.9912999868392944\n"
          ],
          "name": "stdout"
        }
      ]
    }
  ]
}