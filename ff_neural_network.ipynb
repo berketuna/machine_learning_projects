{
 "metadata": {
  "language_info": {
   "codemirror_mode": {
    "name": "ipython",
    "version": 3
   },
   "file_extension": ".py",
   "mimetype": "text/x-python",
   "name": "python",
   "nbconvert_exporter": "python",
   "pygments_lexer": "ipython3",
   "version": "3.8.5-final"
  },
  "orig_nbformat": 2,
  "kernelspec": {
   "name": "python385jvsc74a57bd0b3ba2566441a7c06988d0923437866b63cedc61552a5af99d1f4fb67d367b25f",
   "display_name": "Python 3.8.5 64-bit (conda)"
  }
 },
 "nbformat": 4,
 "nbformat_minor": 2,
 "cells": [
  {
   "cell_type": "code",
   "execution_count": 5,
   "metadata": {},
   "outputs": [],
   "source": [
    "#Libraries\n",
    "import numpy as np"
   ]
  },
  {
   "cell_type": "code",
   "execution_count": 6,
   "metadata": {},
   "outputs": [],
   "source": [
    "#Hand Generated Inputs, Weigths and Biases\n",
    "\n",
    "X = [[1, 2, 3, 2.5],\n",
    "     [2, 5, -1, 2],\n",
    "     [-1.5, 2.7, 3.3, -0.8]]\n",
    "\n",
    "weights1 = [[0.2, 0.8, -0.5, 1],\n",
    "           [0.5, -0.91, 0.26, -0.5],\n",
    "           [-0.26, -0.27, 0.17, 0.87]]\n",
    "\n",
    "biases1 = [2, 3, 0.5] \n",
    "\n",
    "weights2 = [[0.1, -0.14, 0.5],\n",
    "           [-0.5, 0.12, -0.33],\n",
    "           [-0.44, 0.73, -0.13]]\n",
    "\n",
    "biases2 = [-1, 2, -0.5] "
   ]
  },
  {
   "cell_type": "code",
   "execution_count": 7,
   "metadata": {},
   "outputs": [],
   "source": [
    "#Dense Layer Generating Class\n",
    "class Layer_Dense:\n",
    "    def __init__(self,n_inputs, n_neurons):\n",
    "        self.weights = 0.10 * np.random.randn(n_inputs, n_neurons)\n",
    "        self.biases = np.zeros((1, n_neurons))\n",
    "    def forward(self, inputs):\n",
    "        self.output = np.dot(inputs, self.weights) + self.biases\n",
    "\n",
    "#ReLu Activation Function Class\n",
    "class Activation_ReLu:\n",
    "    def forward(self,inputs):\n",
    "        self.output = np.maximum(0, inputs)\n",
    "\n",
    "#Softmax Activation Function Class\n",
    "class Activation_Softmax:\n",
    "    def forward(self,inputs):\n",
    "        exp_values = np.exp(inputs - np.max(inputs, axis=1, keepdims = True))\n",
    "        probablities = exp_values / np.sum(exp_values, axis=1, keepdims = True)\n",
    "        self.outputs = probablities"
   ]
  },
  {
   "cell_type": "code",
   "execution_count": 8,
   "metadata": {},
   "outputs": [
    {
     "output_type": "stream",
     "name": "stdout",
     "text": [
      "[[0.28703982 0.32840022 0.38455996]\n [0.32975294 0.27475573 0.39549132]\n [0.31295311 0.31277415 0.37427274]]\n"
     ]
    }
   ],
   "source": [
    "#Construction of 4 / 20 / 3 Shaped Dense Neural Network\n",
    "layer1 = Layer_Dense(4, 20)\n",
    "activation1 = Activation_ReLu() # Assigning ReLu activation function to first layer\n",
    "layer2 = Layer_Dense(20, 3)\n",
    "softmax_layer = Activation_Softmax() # Softmax Output activation function\n",
    "\n",
    "#Feeding forward\n",
    "layer1.forward(X)\n",
    "activation1.forward(layer1.output) \n",
    "layer2.forward(activation1.output)\n",
    "softmax_layer.forward(layer2.output)\n",
    "\n",
    "#Outputs\n",
    "print(softmax_layer.outputs)"
   ]
  }
 ]
}